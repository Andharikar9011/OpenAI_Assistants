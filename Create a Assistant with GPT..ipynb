{
 "cells": [
  {
   "cell_type": "code",
   "execution_count": 1,
   "id": "c1124a66",
   "metadata": {},
   "outputs": [],
   "source": [
    "# Set your API key\n",
    "import os \n",
    "os.environ['OPENAI_API_KEY'] = 'your secret key'"
   ]
  },
  {
   "cell_type": "code",
   "execution_count": 2,
   "id": "8ab91d10",
   "metadata": {},
   "outputs": [],
   "source": [
    "#import\n",
    "from openai import OpenAI\n",
    "client = OpenAI()"
   ]
  },
  {
   "cell_type": "code",
   "execution_count": 3,
   "id": "987082fb",
   "metadata": {},
   "outputs": [],
   "source": [
    "# Create Assistant\n",
    "assistant = client.beta.assistants.create(name=\"Math Tutor\", instructions='You convert math problems into python code and then run the code to show the answer',\n",
    "                                          tools=[{'type':'code_interpreter'}],model='gpt-3.5-turbo')\n"
   ]
  },
  {
   "cell_type": "code",
   "execution_count": 4,
   "id": "0261cc96",
   "metadata": {},
   "outputs": [
    {
     "data": {
      "text/plain": [
       "'asst_N7bvrCCDB31A1jv12z08bwTu'"
      ]
     },
     "execution_count": 4,
     "metadata": {},
     "output_type": "execute_result"
    }
   ],
   "source": [
    "assistant.id"
   ]
  },
  {
   "cell_type": "code",
   "execution_count": 48,
   "id": "ab29fe7a",
   "metadata": {},
   "outputs": [
    {
     "data": {
      "text/plain": [
       "'thread_6Ua4LQNNEcZjSwcp4Bym415x'"
      ]
     },
     "execution_count": 48,
     "metadata": {},
     "output_type": "execute_result"
    }
   ],
   "source": [
    "# Create Thread\n",
    "thread = client.beta.threads.create()\n",
    "thread.id"
   ]
  },
  {
   "cell_type": "code",
   "execution_count": 49,
   "id": "8b39f8fa",
   "metadata": {},
   "outputs": [],
   "source": [
    "#Create Message on Thread\n",
    "message = client.beta.threads.messages.create(thread_id = thread.id,\n",
    "                                              role ='user', content= \"Add 265 and 54678 and then subtract 5400 from the answer ?\")"
   ]
  },
  {
   "cell_type": "code",
   "execution_count": 50,
   "id": "9e832799",
   "metadata": {},
   "outputs": [],
   "source": [
    "# Create A run to run the assistant \n",
    "run = client.beta.threads.runs.create(thread_id=thread.id,assistant_id=assistant.id)"
   ]
  },
  {
   "cell_type": "code",
   "execution_count": 53,
   "id": "ae9c0c83",
   "metadata": {},
   "outputs": [
    {
     "data": {
      "text/plain": [
       "'completed'"
      ]
     },
     "execution_count": 53,
     "metadata": {},
     "output_type": "execute_result"
    }
   ],
   "source": [
    "run.status"
   ]
  },
  {
   "cell_type": "code",
   "execution_count": 52,
   "id": "a9e7b948",
   "metadata": {},
   "outputs": [],
   "source": [
    "run = client.beta.threads.runs.retrieve(thread_id=thread.id,run_id=run.id)"
   ]
  },
  {
   "cell_type": "code",
   "execution_count": 54,
   "id": "b63b7534",
   "metadata": {},
   "outputs": [],
   "source": [
    "messages= client.beta.threads.messages.list(thread_id=thread.id)"
   ]
  },
  {
   "cell_type": "code",
   "execution_count": 55,
   "id": "7d3a5e9e",
   "metadata": {},
   "outputs": [
    {
     "data": {
      "text/plain": [
       "'The final result after adding 265 and 54678, and then subtracting 5400 from the sum is 49543.'"
      ]
     },
     "execution_count": 55,
     "metadata": {},
     "output_type": "execute_result"
    }
   ],
   "source": [
    "#  Retrive the output by API\n",
    "messages.data[0].content[0].text.value"
   ]
  },
  {
   "cell_type": "code",
   "execution_count": 56,
   "id": "470f8673",
   "metadata": {},
   "outputs": [
    {
     "name": "stdout",
     "output_type": "stream",
     "text": [
      "The final result after adding 265 and 54678, and then subtracting 5400 from the sum is 49543.\n",
      "Add 265 and 54678 and then subtract 5400 from the answer ?\n"
     ]
    }
   ],
   "source": [
    "#print all messages chat\n",
    "for i in messages.data:\n",
    "    print(i.content[0].text.value)"
   ]
  },
  {
   "cell_type": "code",
   "execution_count": 57,
   "id": "ca797be8",
   "metadata": {},
   "outputs": [
    {
     "data": {
      "text/plain": [
       "'run_7tBcpp07fIhVlqEKbj8PVgLY'"
      ]
     },
     "execution_count": 57,
     "metadata": {},
     "output_type": "execute_result"
    }
   ],
   "source": [
    "run.id"
   ]
  },
  {
   "cell_type": "code",
   "execution_count": 58,
   "id": "5bf583a8",
   "metadata": {},
   "outputs": [],
   "source": [
    "# check if it ran properly\n",
    "run_steps = client.beta.threads.runs.steps.list(thread_id=thread.id,run_id=run.id)"
   ]
  },
  {
   "cell_type": "code",
   "execution_count": 59,
   "id": "3437a4b6",
   "metadata": {},
   "outputs": [
    {
     "name": "stdout",
     "output_type": "stream",
     "text": [
      "MessageCreationStepDetails(message_creation=MessageCreation(message_id='msg_Yj1YlqIbEmVFqM9kIag6tEoJ'), type='message_creation')\n",
      "ToolCallsStepDetails(tool_calls=[CodeToolCall(id='call_6JNKZShiY6Dg9NJ0ILA0mpJv', code_interpreter=CodeInterpreter(input='# Adding 265 and 54678\\naddition_result = 265 + 54678\\n\\n# Subtracting 5400 from the addition result\\nfinal_result = addition_result - 5400\\n\\nfinal_result', outputs=[CodeInterpreterOutputLogs(logs='49543', type='logs')]), type='code_interpreter')], type='tool_calls')\n"
     ]
    }
   ],
   "source": [
    "# RUn Steps\n",
    "for step in run_steps:\n",
    "    print(step.step_details)"
   ]
  },
  {
   "cell_type": "code",
   "execution_count": 66,
   "id": "f8b141a6",
   "metadata": {},
   "outputs": [],
   "source": [
    "# Check for Assistants\n",
    "my_assistants = client.beta.assistants.list(order='desc',limit=20)"
   ]
  },
  {
   "cell_type": "code",
   "execution_count": 67,
   "id": "c8277b07",
   "metadata": {},
   "outputs": [
    {
     "data": {
      "text/plain": [
       "[]"
      ]
     },
     "execution_count": 67,
     "metadata": {},
     "output_type": "execute_result"
    }
   ],
   "source": [
    "my_assistants.data"
   ]
  },
  {
   "cell_type": "code",
   "execution_count": 65,
   "id": "1fcefc29",
   "metadata": {},
   "outputs": [],
   "source": [
    "# Delete Assistants\n",
    "respresponse  = client.beta.assistants.delete(assistant_id='asst_XOW1BmNCZbgJPpG7sbngv46z')"
   ]
  }
 ],
 "metadata": {
  "kernelspec": {
   "display_name": "Python 3 (ipykernel)",
   "language": "python",
   "name": "python3"
  },
  "language_info": {
   "codemirror_mode": {
    "name": "ipython",
    "version": 3
   },
   "file_extension": ".py",
   "mimetype": "text/x-python",
   "name": "python",
   "nbconvert_exporter": "python",
   "pygments_lexer": "ipython3",
   "version": "3.11.8"
  }
 },
 "nbformat": 4,
 "nbformat_minor": 5
}
