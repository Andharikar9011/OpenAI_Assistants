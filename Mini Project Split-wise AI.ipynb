{
 "cells": [
  {
   "cell_type": "markdown",
   "id": "2eaaf94c",
   "metadata": {},
   "source": [
    "<h1> Create A Mini Splitwise AI </h1>\n",
    "<h4> The assistant will split bills between people according to expense shared. </h4>"
   ]
  },
  {
   "cell_type": "code",
   "execution_count": null,
   "id": "f7483773",
   "metadata": {},
   "outputs": [],
   "source": [
    "# import your secket key\n",
    "import os \n",
    "os.environ['OPENAI_API_KEY'] = 'your secret Key'"
   ]
  },
  {
   "cell_type": "code",
   "execution_count": 3,
   "id": "2258cfdf",
   "metadata": {},
   "outputs": [],
   "source": [
    "# Import api\n",
    "from openai import OpenAI\n",
    "client = OpenAI()"
   ]
  },
  {
   "cell_type": "code",
   "execution_count": 5,
   "id": "b23a6388",
   "metadata": {},
   "outputs": [],
   "source": [
    "# Create an Assistant\n",
    "assistant = client.beta.assistants.create(instructions=\"You are a bot who inherts all capabilities of Mathemetics Professor who is expert at spliting bills assuming expense of individual people.\",\n",
    "    name=\"Splitwise bot\",\n",
    "    tools=[{\"type\": \"code_interpreter\"}],\n",
    "    model=\"gpt-4\",)"
   ]
  },
  {
   "cell_type": "code",
   "execution_count": 7,
   "id": "73f3e89b",
   "metadata": {},
   "outputs": [],
   "source": [
    "# Create a Therad\n",
    "thread = client.beta.threads.create()"
   ]
  },
  {
   "cell_type": "code",
   "execution_count": 8,
   "id": "750e092d",
   "metadata": {},
   "outputs": [],
   "source": [
    "# create message on thread\n",
    "messages = client.beta.threads.messages.create(thread_id=thread.id,\n",
    "                                              content = '''Mary ordered a burger, fries and coke. I ordered just a salad and coke.\n",
    "A burger is $10, fries are $5, a salad is $8, and cokes are $2 each.\n",
    "We want to leave an 18% tip. Please split the bill between Mary and me, how much do we each owe?''',\n",
    "                                                role = 'user')"
   ]
  },
  {
   "cell_type": "code",
   "execution_count": 50,
   "id": "5b5db1e5",
   "metadata": {},
   "outputs": [],
   "source": [
    "# Running the thread\n",
    "run = client.beta.threads.runs.create(thread_id=thread.id,assistant_id=assistant.id)"
   ]
  },
  {
   "cell_type": "code",
   "execution_count": 51,
   "id": "645db167",
   "metadata": {},
   "outputs": [
    {
     "data": {
      "text/plain": [
       "'queued'"
      ]
     },
     "execution_count": 51,
     "metadata": {},
     "output_type": "execute_result"
    }
   ],
   "source": [
    "run.status"
   ]
  },
  {
   "cell_type": "code",
   "execution_count": 52,
   "id": "cc165190",
   "metadata": {},
   "outputs": [
    {
     "name": "stdout",
     "output_type": "stream",
     "text": [
      "queued\n",
      "in_progress\n",
      "in_progress\n",
      "in_progress\n",
      "in_progress\n"
     ]
    }
   ],
   "source": [
    "import time\n",
    "while run.status != 'completed':\n",
    "    print(run.status)\n",
    "    run = client.beta.threads.runs.retrieve(thread_id=thread.id,run_id=run.id)\n",
    "    time.sleep(5)"
   ]
  },
  {
   "cell_type": "code",
   "execution_count": 40,
   "id": "cddd4adc",
   "metadata": {},
   "outputs": [],
   "source": [
    "out_messages = client.beta.threads.runs.retrieve(run_id= run.id,thread_id=thread.id)"
   ]
  },
  {
   "cell_type": "code",
   "execution_count": 41,
   "id": "8219e4c4",
   "metadata": {},
   "outputs": [
    {
     "data": {
      "text/plain": [
       "Run(id='run_7vJSbKe6O7UzyJ13NW9iWpfA', assistant_id='asst_UDHb7r00GzL3DwfR9uZ4pVIS', cancelled_at=None, completed_at=1711379082, created_at=1711379065, expires_at=None, failed_at=None, file_ids=[], instructions='You are a bot who inherts all capabilities of Mathemetics Professor who is expert at spliting bills assuming expense of individual people.', last_error=None, metadata={}, model='gpt-4', object='thread.run', required_action=None, started_at=1711379065, status='completed', thread_id='thread_vohNbbkou9EshhMqBkOBePeM', tools=[ToolAssistantToolsCode(type='code_interpreter')], usage=Usage(completion_tokens=273, prompt_tokens=927, total_tokens=1200))"
      ]
     },
     "execution_count": 41,
     "metadata": {},
     "output_type": "execute_result"
    }
   ],
   "source": [
    "out_messages"
   ]
  },
  {
   "cell_type": "code",
   "execution_count": 53,
   "id": "d917b334",
   "metadata": {},
   "outputs": [],
   "source": [
    "msg_data = client.beta.threads.messages.list(thread_id=thread.id)"
   ]
  },
  {
   "cell_type": "code",
   "execution_count": 48,
   "id": "6fa115c1",
   "metadata": {},
   "outputs": [
    {
     "name": "stdout",
     "output_type": "stream",
     "text": [
      "Each person, Mary and you, should pay $15.93. Please keep in mind we are not considering who ordered more or less, the total bill is simply divided by two.\n",
      "Let's list everything out to make it easier:\n",
      "\n",
      "Mary's orders:\n",
      "- Burger: $10  \n",
      "- Fries: $5  \n",
      "- Coke: $2  \n",
      "\n",
      "Your orders:\n",
      "- Salad: $8  \n",
      "- Coke: $2  \n",
      "\n",
      "The total bill comes up by adding a 18% tip. \n",
      "\n",
      "Once we have the total value, we can split it equally between Mary and you. \n",
      "\n",
      "Let's calculate.\n",
      "Mary ordered a burger, fries and coke. I ordered just a salad and coke.\n",
      "A burger is $10, fries are $5, a salad is $8, and cokes are $2 each.\n",
      "We want to leave an 18% tip. Please split the bill between Mary and me, how much do we each owe?\n"
     ]
    }
   ],
   "source": [
    "for msg in msg_data.data:\n",
    "    print(msg.content[0].text.value )"
   ]
  },
  {
   "cell_type": "code",
   "execution_count": 49,
   "id": "713add36",
   "metadata": {},
   "outputs": [],
   "source": [
    "messages = client.beta.threads.messages.create(thread_id=thread.id,\n",
    "                                              content = '''do not split bill equally split bill according to what each person ordered. As Mary ordered more she should pay more.''',\n",
    "                                                role = 'user')"
   ]
  },
  {
   "cell_type": "code",
   "execution_count": null,
   "id": "14c7bd53",
   "metadata": {},
   "outputs": [],
   "source": [
    "# After this try rerunning the thread "
   ]
  },
  {
   "cell_type": "code",
   "execution_count": 54,
   "id": "3d18b240",
   "metadata": {},
   "outputs": [
    {
     "name": "stdout",
     "output_type": "stream",
     "text": [
      "Mary, who ordered more, should pay $20.06, and you, who had the salad and coke, should pay $11.80. This is based on splitting the bill and tip proportionally according to the amount each person ordered.\n",
      "Understood. \n",
      "\n",
      "Let's use the following method to split the bill based on individual order:\n",
      "  - Callculate total cost of each individual order (we've already done that before)\n",
      "  - Calculate proportion of each individual's order to the total bill before tip \n",
      "  - Each individual will then pay their proportion of the original bill plus the same proportion of the tip\n",
      "  \n",
      "Let's calculate this.\n",
      "do not split bill equally split bill according to what each person ordered. As Mary ordered more she should pay more.\n",
      "Each person, Mary and you, should pay $15.93. Please keep in mind we are not considering who ordered more or less, the total bill is simply divided by two.\n",
      "Let's list everything out to make it easier:\n",
      "\n",
      "Mary's orders:\n",
      "- Burger: $10  \n",
      "- Fries: $5  \n",
      "- Coke: $2  \n",
      "\n",
      "Your orders:\n",
      "- Salad: $8  \n",
      "- Coke: $2  \n",
      "\n",
      "The total bill comes up by adding a 18% tip. \n",
      "\n",
      "Once we have the total value, we can split it equally between Mary and you. \n",
      "\n",
      "Let's calculate.\n",
      "Mary ordered a burger, fries and coke. I ordered just a salad and coke.\n",
      "A burger is $10, fries are $5, a salad is $8, and cokes are $2 each.\n",
      "We want to leave an 18% tip. Please split the bill between Mary and me, how much do we each owe?\n"
     ]
    }
   ],
   "source": [
    "for msg in msg_data.data:\n",
    "    print(msg.content[0].text.value )"
   ]
  },
  {
   "cell_type": "code",
   "execution_count": null,
   "id": "50be8ab4",
   "metadata": {},
   "outputs": [],
   "source": []
  }
 ],
 "metadata": {
  "kernelspec": {
   "display_name": "Python 3 (ipykernel)",
   "language": "python",
   "name": "python3"
  },
  "language_info": {
   "codemirror_mode": {
    "name": "ipython",
    "version": 3
   },
   "file_extension": ".py",
   "mimetype": "text/x-python",
   "name": "python",
   "nbconvert_exporter": "python",
   "pygments_lexer": "ipython3",
   "version": "3.11.8"
  }
 },
 "nbformat": 4,
 "nbformat_minor": 5
}
