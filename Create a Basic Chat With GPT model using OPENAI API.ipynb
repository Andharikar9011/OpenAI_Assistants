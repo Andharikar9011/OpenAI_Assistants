{
 "cells": [
  {
   "cell_type": "code",
   "execution_count": 1,
   "id": "2a054487",
   "metadata": {},
   "outputs": [],
   "source": [
    "import os \n",
    "os.environ['OPENAI_API_KEY'] = 'yoursecretkey'"
   ]
  },
  {
   "cell_type": "code",
   "execution_count": 2,
   "id": "db34fa60",
   "metadata": {},
   "outputs": [],
   "source": [
    "from openai import OpenAI\n",
    "client = OpenAI()"
   ]
  },
  {
   "cell_type": "code",
   "execution_count": 3,
   "id": "7fa6998e",
   "metadata": {},
   "outputs": [
    {
     "name": "stdout",
     "output_type": "stream",
     "text": [
      "Hi, this is your chat assistant who will help you on any question formuating a structure to how you should ask it.\n",
      "To exit the chat type 'THANKS'\n",
      "HI can you tell me about black holes\n",
      "\n",
      "\n",
      "Sure! Here's a rephrased version of your query that may help generate a unique response from a language model like ChatGPT:\n",
      "\n",
      "\"Could you provide an overview of black holes and their characteristics?\"\n",
      "\n",
      "\n",
      "can you provide me a details on parameters used in formula of rectangle \n",
      "\n",
      "\n",
      "Of course! Here's a rephrased version of your query that may prompt a unique response from a language model like ChatGPT:\n",
      "\n",
      "\"Please elaborate on the parameters involved in the formula for determining the area of a rectangle.\"\n",
      "\n",
      "\n",
      "Lorem ipsum dolor sit amet, consectetur adipiscing elit. Duis bibendum ex volutpat elementum varius. Duis diam nulla, molestie id felis ut, tincidunt tincidunt ligula. Nam at augue diam. Vestibulum auctor euismod lectus vitae pretium. Duis quis erat nibh. Nulla in arcu id magna blandit blandit ac sit amet nisi. Sed porta nisl ac sodales tempor. Maecenas mi sem, lobortis sit amet mollis a, auctor et risus. Curabitur lobortis dolor vel sem euismod, ac gravida sem fringilla. Fusce et ipsum vel orci dignissim finibus nec a libero. Pellentesque ut sodales nulla, auctor fringilla massa. Nunc ornare mauris quis sapien gravida, quis venenatis neque aliquet. Duis enim ex, semper vitae pretium vitae, viverra quis neque. Sed tortor lacus, tincidunt in ligula sit amet, viverra hendrerit nisl.  Ut sed ultrices nisl. Nullam eget odio nisl. Mauris sodales imperdiet lectus, sit amet pharetra eros consectetur vel. Vestibulum eget felis risus. Donec ac ultrices risus. Morbi a ligula ultricies, eleifend felis condimentum, pretium tortor. Etiam a metus eu mi hendrerit laoreet a quis mi.  Nulla blandit lacus et ipsum iaculis, ultricies pharetra risus cursus. Sed fermentum rhoncus augue sed bibendum. Fusce hendrerit eget ante a consequat. Nullam bibendum velit at velit pharetra vehicula. Morbi ac rhoncus mi. Vestibulum sit amet congue odio. Etiam euismod lorem vitae mattis luctus.  Fusce interdum, ante non viverra ultricies, lorem libero efficitur massa, ut rhoncus est risus non dolor. Suspendisse diam ligula, egestas quis diam eu, viverra lobortis nunc. Aliquam semper molestie risus, egestas dictum magna tempor ut. Proin varius nisl tortor, eu porttitor purus posuere quis. Nam finibus mauris non ex pellentesque pretium. Fusce vitae commodo purus. Aenean et molestie quam. Fusce volutpat finibus arcu, ac iaculis nulla. Pellentesque ac turpis ut lacus rutrum volutpat at eu urna. Vestibulum in lorem eget lectus porttitor fringilla dignissim eget felis. Morbi ultrices magna vel ligula sagittis maximus. Donec nisl felis, cursus vel nisi ac, imperdiet laoreet velit.  Vivamus dignissim lorem nec massa mattis mollis. Nullam hendrerit laoreet sapien eu tristique. Proin congue, tellus quis aliquam bibendum, nunc neque vestibulum est, vel eleifend felis lacus vel dolor. In lectus quam, gravida a augue nec, finibus suscipit lorem. Donec condimentum massa sapien, finibus imperdiet ante luctus et. Aenean posuere varius ultrices. Mauris in luctus quam. Mauris et erat auctor, rutrum erat at, porta quam. Praesent ornare rhoncus nisl, ut maximus nisi sollicitudin a.  Donec leo odio, scelerisque non neque consequat, congue molestie erat. Donec sed blandit purus. Orci varius natoque penatibus et magnis dis parturient montes, nascetur ridiculus mus. Cras eu lacinia ligula. Praesent sed cursus ex, elementum imperdiet lorem. Donec ac orci felis. Vestibulum nec finibus risus, nec commodo lacus. Nullam eu fringilla velit.  Fusce a iaculis tortor. Nunc eu metus mauris. Aliquam sollicitudin sollicitudin tellus, quis mattis purus finibus et. Aliquam tortor mauris, facilisis eget imperdiet ut, tempor ut massa. Integer molestie viverra convallis. Class aptent taciti sociosqu ad litora torquent per conubia nostra, per inceptos himenaeos. Phasellus libero ex, feugiat varius feugiat vitae, condimentum sed lectus. Aliquam eget sollicitudin augue. Nunc congue vitae mauris a egestas. In feugiat erat nec diam aliquet, nec semper leo sodales. Phasellus scelerisque at ipsum ac euismod. Aenean iaculis metus turpis, ut tempus eros porta eu. Phasellus sed nulla id sem convallis ullamcorper. Phasellus diam metus, sagittis in dolor ut, placerat facilisis risus.  Nunc congue, metus ut tempus laoreet, metus nulla tempus tellus, vitae vestibulum est sem non augue. Proin a lobortis odio. Sed eleifend massa vestibulum, sodales velit vitae, consectetur erat. Suspendisse at odio finibus, semper libero a, mattis enim. Sed placerat pharetra mattis. Sed consequat magna enim, tristique dapibus massa viverra et. Quisque consectetur porttitor ante, vitae auctor augue tincidunt vitae. Integer sed nunc non quam euismod aliquet. Phasellus vitae ex suscipit, accumsan ipsum sed, vestibulum mauris. Proin fermentum mauris porta velit pellentesque, sed accumsan dui condimentum. Phasellus commodo dapibus felis vitae vulputate. Duis enim risus, iaculis sit amet metus et, maximus imperdiet lorem. Praesent fringilla porta lobortis.  Pellentesque placerat, mi at dictum porttitor, ante odio interdum mauris, at tristique mauris ipsum et sem. Sed eleifend eros ac dignissim accumsan. Suspendisse potenti. Nulla ornare lobortis diam, eget placerat tortor dignissim at. Donec tellus ex, tempor a fermentum eu, tincidunt sit amet lectus. Sed faucibus nisi eros, et efficitur turpis fringilla eu. Quisque auctor lacus mauris, eget eleifend dui fermentum eu.  Vestibulum vehicula auctor metus nec mollis. Donec euismod vulputate pulvinar. Vivamus turpis ipsum, dignissim id diam eu, volutpat ultricies diam. Integer placerat, nisl euismod placerat fermentum, elit ante commodo nunc, pulvinar rhoncus diam metus in lectus. Mauris sit amet semper metus. Lorem ipsum dolor sit amet, consectetur adipiscing elit. Donec viverra nunc metus, ut fermentum leo malesuada eu.  Donec ante lectus, facilisis vel porta pretium, tristique quis nunc. Nulla lorem nunc, rutrum quis quam eget, vulputate fringilla nisi. Aliquam pretium ligula lorem, quis maximus lorem aliquet non. Suspendisse bibendum tempor laoreet. Curabitur quis sagittis urna. Aliquam vitae sapien sed nisi fermentum feugiat in sed metus. Nulla lobortis augue vitae leo vulputate, eu finibus est aliquet. Aliquam sed ex et ante finibus lacinia.  In hac habitasse platea dictumst. Fusce vestibulum ex eget sodales porttitor. Nulla condimentum ultrices eleifend. Nulla aliquet vitae sem tristique condimentum. Fusce maximus nunc congue nisi placerat, condimentum luctus mi efficitur. Aliquam porttitor gravida lacus, vel feugiat sem congue eu. Maecenas venenatis maximus gravida. Nam consectetur arcu vel mi luctus lacinia. Quisque pharetra turpis at diam laoreet imperdiet. Phasellus lacinia sagittis eleifend.  Donec sagittis ante in feugiat mollis. Suspendisse pellentesque libero a maximus pulvinar. Phasellus interdum interdum lacus lacinia lobortis. Sed fringilla sem nec lectus consectetur, non vulputate arcu bibendum. Ut egestas et est sed facilisis. Vivamus tincidunt urna risus. Phasellus suscipit sem id ipsum condimentum vulputate. Etiam nisi orci, bibendum vel interdum eget, efficitur eget massa. In pretium dignissim risus nec porttitor. Morbi vitae odio purus. Vivamus non est orci. Nam eget lacinia massa. Phasellus ac est sollicitudin, posuere neque eget, fermentum magna. Nullam eget odio id felis consequat fermentum. Vivamus maximus sodales mauris, eget posuere nibh sollicitudin eget. Aliquam.\n",
      "Question too Long. Retry\n",
      "Thanks\n",
      "\n",
      "\n",
      "You're welcome! If you have any more questions or need further assistance, feel free to ask.\n",
      "\n",
      "\n",
      "THANKS\n",
      "\n",
      "\n",
      "You're welcome! If you need help with anything else, don't hesitate to reach out.\n",
      "\n",
      "\n"
     ]
    }
   ],
   "source": [
    "print(\"Hi, this is your chat assistant who will help you on any question formuating a structure to how you should ask it.\")\n",
    "print(\"To exit the chat type 'THANKS'\")\n",
    "question = ''\n",
    "message = [{'role':'system','content':'You are a test maker and prompt engineer and a genuine genius who was awarded a lot for successful prompts. Your job is to help students rephrase the restructure th question so that a model like ChatGPT will provide a uniqe and composed output.'}]\n",
    "while question != \"THANKS\":\n",
    "    question = input(\"\")\n",
    "    if len(question) > 1000:\n",
    "        print('Question too Long. Retry')\n",
    "        continue\n",
    "    message.append({'role':'user','content':question})\n",
    "    response = client.chat.completions.create(model='gpt-3.5-turbo',temperature=1,max_tokens=1000,messages = message)\n",
    "    reply = response.choices[0].message.content\n",
    "    print('\\n')\n",
    "    print(reply)\n",
    "    print('\\n')\n",
    "    message.append({'role':'assistant','content': reply })\n",
    "    "
   ]
  },
  {
   "cell_type": "code",
   "execution_count": null,
   "id": "05f8ee91",
   "metadata": {},
   "outputs": [],
   "source": []
  }
 ],
 "metadata": {
  "kernelspec": {
   "display_name": "Python 3 (ipykernel)",
   "language": "python",
   "name": "python3"
  },
  "language_info": {
   "codemirror_mode": {
    "name": "ipython",
    "version": 3
   },
   "file_extension": ".py",
   "mimetype": "text/x-python",
   "name": "python",
   "nbconvert_exporter": "python",
   "pygments_lexer": "ipython3",
   "version": "3.11.8"
  }
 },
 "nbformat": 4,
 "nbformat_minor": 5
}
