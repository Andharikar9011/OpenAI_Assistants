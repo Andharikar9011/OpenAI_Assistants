{
 "cells": [
  {
   "cell_type": "code",
   "execution_count": 1,
   "id": "ed635cbd",
   "metadata": {},
   "outputs": [],
   "source": [
    "#set your API key\n",
    "import os \n",
    "os.environ['OPENAI_API_KEY'] = 'your Secret Key'"
   ]
  },
  {
   "cell_type": "code",
   "execution_count": 2,
   "id": "e93c390c",
   "metadata": {},
   "outputs": [],
   "source": [
    "# import API client\n",
    "from openai import OpenAI\n",
    "client = OpenAI()"
   ]
  },
  {
   "cell_type": "markdown",
   "id": "a92557e1",
   "metadata": {},
   "source": [
    "<h3> Create A Mortgage Bot Assistant </h3>"
   ]
  },
  {
   "cell_type": "code",
   "execution_count": 3,
   "id": "863386a1",
   "metadata": {},
   "outputs": [],
   "source": [
    "assistant = client.beta.assistants.create(name='Mortgage Bot', instructions='You use python code to help answer questions about mortgage and interest payments.',\n",
    "                                         tools = [{'type':'code_interpreter'}],model = 'gpt-3.5-turbo')"
   ]
  },
  {
   "cell_type": "code",
   "execution_count": 4,
   "id": "280c4ba1",
   "metadata": {},
   "outputs": [],
   "source": [
    "thread = client.beta.threads.create()"
   ]
  },
  {
   "cell_type": "code",
   "execution_count": 5,
   "id": "9eea7269",
   "metadata": {},
   "outputs": [],
   "source": [
    "message = client.beta.threads.messages.create(thread_id=thread.id,role = 'user', content='I want to buy a house worth 1.2 million dollars in maiami on a 30 years of loan with 9.2% interest. what will be my monthly emi?')"
   ]
  },
  {
   "cell_type": "code",
   "execution_count": 10,
   "id": "2db539c0",
   "metadata": {},
   "outputs": [],
   "source": [
    " run = client.beta.threads.runs.create(thread_id= thread.id,assistant_id=assistant.id,instructions='Give me a thought process as well with answer.')"
   ]
  },
  {
   "cell_type": "code",
   "execution_count": 11,
   "id": "9e6e1431",
   "metadata": {},
   "outputs": [
    {
     "name": "stdout",
     "output_type": "stream",
     "text": [
      "queued\n",
      "in_progress\n",
      "completed\n"
     ]
    }
   ],
   "source": [
    "import time\n",
    "while run.status != 'completed':\n",
    "    print(run.status)\n",
    "    run = client.beta.threads.runs.retrieve(thread_id=thread.id,run_id=run.id)\n",
    "    time.sleep(5)\n",
    "print(run.status)"
   ]
  },
  {
   "cell_type": "code",
   "execution_count": 12,
   "id": "15aa7016",
   "metadata": {},
   "outputs": [],
   "source": [
    "messages = client.beta.threads.messages.list(thread_id=thread.id)"
   ]
  },
  {
   "cell_type": "code",
   "execution_count": 13,
   "id": "43fc546d",
   "metadata": {},
   "outputs": [
    {
     "name": "stdout",
     "output_type": "stream",
     "text": [
      "The monthly EMI for a 30-year loan of $1,200,000 at an annual interest rate of 9.2% would be approximately $9,828.66.\n",
      "\n",
      "The monthly EMI for a 30-year loan of $1,200,000 at an annual interest rate of 9.2% would be approximately $9,828.66.\n",
      "\n",
      "To calculate the monthly EMI (Equated Monthly Installment) for a loan, we can use the formula:\n",
      "\n",
      "\\[\n",
      "EMI = \\dfrac{P \\times r \\times (1+r)^n}{(1+r)^n - 1}\n",
      "\\]\n",
      "\n",
      "where:\n",
      "- \\( P \\) is the principal loan amount (1,200,000 dollars in this case)\n",
      "- \\( r \\) is the monthly interest rate (annual rate divided by 12 and converted to a decimal)\n",
      "- \\( n \\) is the total number of months or loan tenure (30 years in this case)\n",
      "\n",
      "Let's calculate the monthly EMI based on the given information.\n",
      "\n",
      "I want to buy a house worth 1.2 million dollars in maiami on a 30 years of loan with 9.2% interest. what will be my monthly emi?\n",
      "\n"
     ]
    }
   ],
   "source": [
    "for msg in messages.data:\n",
    "    print(msg.content[0].text.value)\n",
    "    print('')"
   ]
  },
  {
   "cell_type": "code",
   "execution_count": null,
   "id": "44c9c4cf",
   "metadata": {},
   "outputs": [],
   "source": []
  },
  {
   "cell_type": "code",
   "execution_count": null,
   "id": "21d04fbc",
   "metadata": {},
   "outputs": [],
   "source": [
    "# Run multiple threads"
   ]
  },
  {
   "cell_type": "code",
   "execution_count": 18,
   "id": "1a6f1224",
   "metadata": {},
   "outputs": [],
   "source": [
    "def wait_on_run(run, thread):\n",
    "    while run.status == 'queued' or run.status == \"in_progress\":\n",
    "        run = client.beta.threads.runs.retrieve(thread_id=thread.id, run_id=run.id)\n",
    "        time.sleep(0.5)\n",
    "        print(run.status)\n",
    "    return run"
   ]
  },
  {
   "cell_type": "code",
   "execution_count": 14,
   "id": "0010851c",
   "metadata": {},
   "outputs": [
    {
     "data": {
      "text/plain": [
       "'thread_fLCBPa8zIfvrlHZv7DPVsAro'"
      ]
     },
     "execution_count": 14,
     "metadata": {},
     "output_type": "execute_result"
    }
   ],
   "source": [
    "thread.id"
   ]
  },
  {
   "cell_type": "code",
   "execution_count": 17,
   "id": "9390b058",
   "metadata": {},
   "outputs": [
    {
     "data": {
      "text/plain": [
       "SyncCursorPage[ThreadMessage](data=[ThreadMessage(id='msg_YcunxMlCoe4qPzBBwmr0yhNE', assistant_id=None, content=[MessageContentText(text=Text(annotations=[], value='What if i add 5000000 dollars as a down payment at the start whatwill it drop to now?'), type='text')], created_at=1711366863, file_ids=[], metadata={}, object='thread.message', role='user', run_id=None, thread_id='thread_fLCBPa8zIfvrlHZv7DPVsAro'), ThreadMessage(id='msg_gXtTKZJuBrqcTtDSndD1JsdN', assistant_id='asst_YQdAPUvxeXjm8cutV4c1rqP6', content=[MessageContentText(text=Text(annotations=[], value='The monthly EMI for a 30-year loan of $1,200,000 at an annual interest rate of 9.2% would be approximately $9,828.66.'), type='text')], created_at=1711363589, file_ids=[], metadata={}, object='thread.message', role='assistant', run_id='run_mWTHhCx2cZ0ZT4qiSZkA7P2d', thread_id='thread_fLCBPa8zIfvrlHZv7DPVsAro'), ThreadMessage(id='msg_0Hyvq7FlpGB3UygnXR6TnomA', assistant_id='asst_YQdAPUvxeXjm8cutV4c1rqP6', content=[MessageContentText(text=Text(annotations=[], value='The monthly EMI for a 30-year loan of $1,200,000 at an annual interest rate of 9.2% would be approximately $9,828.66.'), type='text')], created_at=1711363464, file_ids=[], metadata={}, object='thread.message', role='assistant', run_id='run_UYXIlzczniMXMJL0badtQQJn', thread_id='thread_fLCBPa8zIfvrlHZv7DPVsAro'), ThreadMessage(id='msg_60PAw5Gb5RDiZhrT7ABFA2eV', assistant_id='asst_YQdAPUvxeXjm8cutV4c1rqP6', content=[MessageContentText(text=Text(annotations=[], value=\"To calculate the monthly EMI (Equated Monthly Installment) for a loan, we can use the formula:\\n\\n\\\\[\\nEMI = \\\\dfrac{P \\\\times r \\\\times (1+r)^n}{(1+r)^n - 1}\\n\\\\]\\n\\nwhere:\\n- \\\\( P \\\\) is the principal loan amount (1,200,000 dollars in this case)\\n- \\\\( r \\\\) is the monthly interest rate (annual rate divided by 12 and converted to a decimal)\\n- \\\\( n \\\\) is the total number of months or loan tenure (30 years in this case)\\n\\nLet's calculate the monthly EMI based on the given information.\"), type='text')], created_at=1711363458, file_ids=[], metadata={}, object='thread.message', role='assistant', run_id='run_UYXIlzczniMXMJL0badtQQJn', thread_id='thread_fLCBPa8zIfvrlHZv7DPVsAro'), ThreadMessage(id='msg_g7TNo4Gh7VJb2UTfRLJoRPtq', assistant_id=None, content=[MessageContentText(text=Text(annotations=[], value='I want to buy a house worth 1.2 million dollars in maiami on a 30 years of loan with 9.2% interest. what will be my monthly emi?'), type='text')], created_at=1711363451, file_ids=[], metadata={}, object='thread.message', role='user', run_id=None, thread_id='thread_fLCBPa8zIfvrlHZv7DPVsAro')], object='list', first_id='msg_YcunxMlCoe4qPzBBwmr0yhNE', last_id='msg_g7TNo4Gh7VJb2UTfRLJoRPtq', has_more=False)"
      ]
     },
     "execution_count": 17,
     "metadata": {},
     "output_type": "execute_result"
    }
   ],
   "source": [
    "client.beta.threads.messages.list(thread_id=thread.id)"
   ]
  },
  {
   "cell_type": "code",
   "execution_count": 16,
   "id": "22238104",
   "metadata": {},
   "outputs": [],
   "source": [
    "messages = client.beta.threads.messages.create(thread_id=thread.id,\n",
    "                                              role = \"user\",\n",
    "                                              content = \"What if i add 5000000 dollars as a down payment at the start whatwill it drop to now?\")"
   ]
  },
  {
   "cell_type": "code",
   "execution_count": 19,
   "id": "7cbf23b3",
   "metadata": {},
   "outputs": [
    {
     "data": {
      "text/plain": [
       "'msg_YcunxMlCoe4qPzBBwmr0yhNE'"
      ]
     },
     "execution_count": 19,
     "metadata": {},
     "output_type": "execute_result"
    }
   ],
   "source": [
    "messages.id"
   ]
  },
  {
   "cell_type": "code",
   "execution_count": 25,
   "id": "bd7c67d4",
   "metadata": {},
   "outputs": [
    {
     "name": "stdout",
     "output_type": "stream",
     "text": [
      "in_progress\n",
      "in_progress\n",
      "completed\n"
     ]
    }
   ],
   "source": [
    "#create a run\n",
    "run = client.beta.threads.runs.create(thread_id=thread.id, assistant_id=assistant.id)\n",
    "\n",
    "#add it in waiting func\n",
    "wait_on_run(run,thread)\n",
    "\n",
    "messages1  = client.beta.threads.messages.list(thread_id=thread.id,order='asc',after=messages.id)\n",
    "\n"
   ]
  },
  {
   "cell_type": "code",
   "execution_count": 24,
   "id": "a07cc70a",
   "metadata": {},
   "outputs": [
    {
     "name": "stdout",
     "output_type": "stream",
     "text": [
      "If you make a down payment of $500,000 towards the purchase price of the house, the principal loan amount will reduce. Let's calculate the new monthly EMI based on the reduced principal loan amount of $700,000 (original loan amount $1,200,000 - down payment $500,000).\n",
      "\n",
      "With a down payment of $500,000, the new monthly EMI for a 30-year loan of $700,000 at an annual interest rate of 9.2% would be approximately $5,733.38.\n",
      "\n"
     ]
    }
   ],
   "source": [
    "# printing output\n",
    "for msg in messages1.data:\n",
    "    print(msg.content[0].text.value)\n",
    "    print('')"
   ]
  },
  {
   "cell_type": "code",
   "execution_count": null,
   "id": "b2aa8873",
   "metadata": {},
   "outputs": [],
   "source": []
  },
  {
   "cell_type": "code",
   "execution_count": null,
   "id": "fc5a1f9b",
   "metadata": {},
   "outputs": [],
   "source": [
    "#check running Assistants\n",
    "assists = client.beta.assistants.list()"
   ]
  },
  {
   "cell_type": "code",
   "execution_count": null,
   "id": "17727d30",
   "metadata": {},
   "outputs": [],
   "source": [
    "assists.data\n"
   ]
  },
  {
   "cell_type": "code",
   "execution_count": null,
   "id": "039d4259",
   "metadata": {},
   "outputs": [],
   "source": [
    "respresponse  = client.beta.assistants.delete(assistant_id='asst_nwmfyTLkYryrvAuRWi3eD0xc')"
   ]
  }
 ],
 "metadata": {
  "kernelspec": {
   "display_name": "Python 3 (ipykernel)",
   "language": "python",
   "name": "python3"
  },
  "language_info": {
   "codemirror_mode": {
    "name": "ipython",
    "version": 3
   },
   "file_extension": ".py",
   "mimetype": "text/x-python",
   "name": "python",
   "nbconvert_exporter": "python",
   "pygments_lexer": "ipython3",
   "version": "3.11.8"
  }
 },
 "nbformat": 4,
 "nbformat_minor": 5
}
